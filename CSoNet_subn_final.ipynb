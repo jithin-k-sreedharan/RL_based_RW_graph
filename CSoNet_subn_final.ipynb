{
 "cells": [
  {
   "cell_type": "code",
   "execution_count": 1,
   "metadata": {
    "collapsed": true,
    "run_control": {
     "frozen": false,
     "read_only": false
    }
   },
   "outputs": [],
   "source": [
    "%matplotlib inline"
   ]
  },
  {
   "cell_type": "code",
   "execution_count": 2,
   "metadata": {
    "collapsed": false,
    "run_control": {
     "frozen": false,
     "read_only": false
    }
   },
   "outputs": [],
   "source": [
    "# %load_ext Cython"
   ]
  },
  {
   "cell_type": "code",
   "execution_count": 3,
   "metadata": {
    "collapsed": false,
    "run_control": {
     "frozen": false,
     "read_only": false
    }
   },
   "outputs": [],
   "source": [
    "from __future__ import division\n",
    "import networkx as nx\n",
    "import random\n",
    "import math\n",
    "import numpy as np\n",
    "import matplotlib\n",
    "import matplotlib.pyplot as plt\n",
    "import pickle as pl\n",
    "import sys\n",
    "\n",
    "from pandas import Series, DataFrame\n",
    "import pandas as pd\n",
    "# cimport numpy as np"
   ]
  },
  {
   "cell_type": "code",
   "execution_count": 4,
   "metadata": {
    "collapsed": false,
    "run_control": {
     "frozen": false,
     "read_only": false
    }
   },
   "outputs": [],
   "source": [
    "def figsize(scale):\n",
    "    fig_width_pt = 395.15166                         # Get this from LaTeX using \\the\\textwidth\n",
    "    inches_per_pt = 1.0/72.27                       # Convert pt to inch\n",
    "    golden_mean = (np.sqrt(5.0)-1.0)/2.0            # Aesthetic ratio (you could change this)\n",
    "    fig_width = fig_width_pt*inches_per_pt*scale    # width in inches\n",
    "    fig_height = fig_width*golden_mean              # height in inches\n",
    "    fig_size = [fig_width,fig_height]\n",
    "    return fig_size\n",
    "pgf_with_latex = {                      # setup matplotlib to use latex for output\n",
    "    \"pgf.texsystem\": \"pdflatex\",        # change this if using xetex or lautex\n",
    "    \"text.usetex\": True,                # use LaTeX to write all text\n",
    "    \"font.family\": \"serif\",\n",
    "    \"font.serif\": [],                   # blank entries should cause plots to inherit fonts from the document\n",
    "    \"font.sans-serif\": [],\n",
    "    \"font.monospace\": [],\n",
    "    \"axes.labelsize\": 10,               # LaTeX default is 10pt font.\n",
    "    \"font.size\": 8,\n",
    "    \"legend.fontsize\": 8,               # Make the legend/label fonts a little smaller\n",
    "    \"xtick.labelsize\": 8,\n",
    "    \"ytick.labelsize\": 8,\n",
    "    \"figure.figsize\": figsize(0.9),     # default fig size of 0.9 textwidth\n",
    "    \"pgf.preamble\": [\n",
    "        r\"\\usepackage[utf8x]{inputenc}\",    # use utf8 fonts becasue your computer can handle it :)\n",
    "        r\"\\usepackage[T1]{fontenc}\",        # plots will be generated using this preamble\n",
    "        ]\n",
    "    }\n",
    "matplotlib.rcParams.update(pgf_with_latex)\n",
    "\n",
    "cust_color=[\"#e41a1c\", \"#377eb8\", \"#4daf4a\", \"#984ea3\", \"#ff7f00\", \"#ffff33\", \"#a65628\", \"#f781bf\"]\n",
    "#these colors come from colorbrewer2.org. Each is an RGB triplet\n",
    "dark2_colors = [(0.10588235294117647, 0.6196078431372549, 0.4666666666666667),\n",
    "                (0.8509803921568627, 0.37254901960784315, 0.00784313725490196),\n",
    "                (0.4588235294117647, 0.4392156862745098, 0.7019607843137254),\n",
    "                (0.9058823529411765, 0.1607843137254902, 0.5411764705882353),\n",
    "                (0.4, 0.6509803921568628, 0.11764705882352941),\n",
    "                (0.9019607843137255, 0.6705882352941176, 0.00784313725490196),\n",
    "                (0.6509803921568628, 0.4627450980392157, 0.11372549019607843),\n",
    "                (0.4, 0.4, 0.4)]"
   ]
  },
  {
   "cell_type": "code",
   "execution_count": 5,
   "metadata": {
    "collapsed": false,
    "run_control": {
     "frozen": false,
     "read_only": false
    }
   },
   "outputs": [],
   "source": [
    "inline_rc = dict(matplotlib.rcParams) #Sepcific for Matploblib inline Ipython notebook\n",
    "matplotlib.rcParams['savefig.dpi'] = 125\n",
    "matplotlib.rcParams['text.latex.preamble']=[r\"\\usepackage{amsmath,amssymb,amsfonts}\"]"
   ]
  },
  {
   "cell_type": "markdown",
   "metadata": {},
   "source": [
    "# Parameters"
   ]
  },
  {
   "cell_type": "code",
   "execution_count": 35,
   "metadata": {
    "collapsed": true,
    "run_control": {
     "frozen": false,
     "read_only": false
    }
   },
   "outputs": [],
   "source": [
    "##### Parameters\n",
    "G_i = 1 # 1 for Friendster, 2 for Les miserables network\n",
    "if G_i == 1:\n",
    "    tour_N = 25 #5\n",
    "    tour_c = 0\n",
    "    deg_def = [50]\n",
    "    flag_fn = 1 # 1 for g(v) = d(v) > 25, 4 for avg clustering coeff\n",
    "if G_i == 2:\n",
    "    tour_N =  10 #5\n",
    "    tour_c = 0\n",
    "    deg_def = [10,4]\n",
    "    flag_fn = 1 # 1 for g(v) = d(v) > 10, 2 for g(v) = d(v) < 4, 3 for avg degree, 4 for avg clustering coeff\n",
    "    asy_var_MH_lesmis = [4.4154,14.93508,1.204e+03]\n",
    "    asy_var_RDS_lesmis = [1.1084,3.3240,272.7649]\n",
    "\n",
    "max_B = 10000 # maximum budget\n",
    "no_runs = 100 # no. of runs to average\n",
    "MH_do = 0 # Flag for doing MH simulation\n",
    "RDS_do = 1 # Flag for doing RDS simulation\n",
    "RL_MH_do = 1 # Flag for doing RL simulation with MH sampling\n",
    "RL_RW_do = 1 # Flag for doing RL simulation with RWRDS (actually unbiased) sampling\n",
    "\n",
    "SHOW_VAR_CONVG = 0\n",
    "ABS_ERROR = 1"
   ]
  },
  {
   "cell_type": "markdown",
   "metadata": {},
   "source": [
    "# Functions"
   ]
  },
  {
   "cell_type": "code",
   "execution_count": 36,
   "metadata": {
    "collapsed": false,
    "run_control": {
     "frozen": false,
     "read_only": false
    }
   },
   "outputs": [],
   "source": [
    "def node_fn(node):\n",
    "    if flag_fn == 1:\n",
    "        temp = int(G.degree(node)>deg_def[0])\n",
    "    elif flag_fn == 2:\n",
    "        temp = int(G.degree(node)<deg_def[1])\n",
    "    elif flag_fn == 3:\n",
    "        temp = G.degree(node)\n",
    "    elif flag_fn == 4:\n",
    "        deg = G.degree(node)\n",
    "        if deg < 2:\n",
    "            temp = 0\n",
    "        else:\n",
    "            temp = 2*nx.triangles(G,node)/(deg*(deg-1))\n",
    "    else:\n",
    "        print(\"Not a defined a function\")\n",
    "        sys.exit(0)\n",
    "    return temp"
   ]
  },
  {
   "cell_type": "code",
   "execution_count": 37,
   "metadata": {
    "collapsed": true,
    "run_control": {
     "frozen": false,
     "read_only": false
    }
   },
   "outputs": [],
   "source": [
    "def MH_sampling(G,B):\n",
    "    est_MH= []\n",
    "    est_MH_t = 0\n",
    "    sample = np.random.choice(G.nodes())\n",
    "    est_MH_t += node_fn(sample)\n",
    "    est_MH.append(est_MH_t)\n",
    "    for ii in range(2,B+1):\n",
    "        # print \"MH_sample: \",ii\n",
    "        neighbors = nx.neighbors(G,sample)\n",
    "        sample_t = np.random.choice(neighbors)\n",
    "        if np.random.rand() <= (G.degree(sample)/G.degree(sample_t)):\n",
    "            sample = sample_t\n",
    "\n",
    "        est_MH_t += node_fn(sample)\n",
    "        est_MH.append(est_MH_t/ii)\n",
    "    return np.array(est_MH)"
   ]
  },
  {
   "cell_type": "code",
   "execution_count": 38,
   "metadata": {
    "collapsed": true,
    "run_control": {
     "frozen": false,
     "read_only": false
    }
   },
   "outputs": [],
   "source": [
    "def RDS_sampling(G,B):\n",
    "    est_RW = []\n",
    "    est_RW_t1 = 0\n",
    "    est_RW_t2 = 0\n",
    "    sample = np.random.choice(G.nodes())\n",
    "    deg_pr_sent = G.degree(sample)\n",
    "    est_RW_t1 += node_fn(sample)/deg_pr_sent\n",
    "    est_RW_t2 += 1/deg_pr_sent\n",
    "    est_RW.append(est_RW_t1/est_RW_t2)\n",
    "    for ii in range(2,B+1):\n",
    "        # print \"rds_sample: \",ii\n",
    "        neighbors = nx.neighbors(G,sample)\n",
    "        sample = random.choice(neighbors)\n",
    "\n",
    "        deg_pr_sent = G.degree(sample)\n",
    "        est_RW_t1 += node_fn(sample)/deg_pr_sent\n",
    "        est_RW_t2 += 1/deg_pr_sent\n",
    "        est_RW.append(est_RW_t1/est_RW_t2)\n",
    "    return np.array(est_RW)"
   ]
  },
  {
   "cell_type": "markdown",
   "metadata": {},
   "source": [
    "## RL-MH estimate"
   ]
  },
  {
   "cell_type": "code",
   "execution_count": 39,
   "metadata": {
    "collapsed": false,
    "run_control": {
     "frozen": false,
     "read_only": false
    }
   },
   "outputs": [],
   "source": [
    "def RL_estimate_MH(G,super_node,max_B,B_arr,G_no_nodes,techq,tour_N,tour_c):\n",
    "    \"\"\"\n",
    "    1. Returns estimate from tours\n",
    "    2. function  fn: f(D_t) = 1 if D_t > deg_def\n",
    "\n",
    "    Parameters\n",
    "    ----------\n",
    "    G:            - networkx graph\n",
    "    super_node\t  - node set  for \"super node\"\n",
    "    no_tours\t  - number of tours\n",
    "    \"\"\"\n",
    "    size_super_node = len(super_node)\n",
    "    V = np.zeros((size_super_node,max_B+1))\n",
    "    V_def = np.zeros(max_B)\n",
    "    Z_def = 10\n",
    "    R=[]\n",
    "    xi_arr = []\n",
    "    xi_sum = 0\n",
    "    tour_i = 1\n",
    "    while xi_sum <= max_B:\n",
    "        # print \"RL tour:\", tour_i\n",
    "        R_k = 0\n",
    "        Z_i = random.randint(0,size_super_node-1)\n",
    "        # Z = super_node[Z_i]\n",
    "        # neighbors = nx.neighbors(G,Z)\n",
    "        # sample = random.choice(neighbors)\n",
    "        sample = super_node[Z_i]\n",
    "        neighbors = nx.neighbors(G,sample)\n",
    "        sample_t = np.random.choice(neighbors)\n",
    "        if np.random.rand() <= (G.degree(sample)/G.degree(sample_t)):\n",
    "            sample = sample_t\n",
    "        xi = 1\n",
    "        while sample not in super_node:\n",
    "            R_k += node_fn(sample)\n",
    "            xi += 1\n",
    "            neighbors = nx.neighbors(G,sample)\n",
    "            sample_t = random.choice(neighbors)\n",
    "            if np.random.rand() <= (G.degree(sample)/G.degree(sample_t)):\n",
    "                sample = sample_t\n",
    "        R_k += node_fn(sample)\n",
    "        R.append(R_k)\n",
    "        xi_sum += xi\n",
    "        # xi_arr maintains the renewal epochs \\xi(1), \\xi(1)+\\xi(2), ....\n",
    "        xi_arr.append(xi_sum)\n",
    "\n",
    "        V[:,tour_i] = V[:,(tour_i-1)]\n",
    "\n",
    "        Z_f = super_node.index(sample)\n",
    "        if techq == 1:\n",
    "            V_def[tour_i-1] = V[Z_def,tour_i-1]\n",
    "            V[Z_i][tour_i] += (1 / (np.ceil(tour_i/tour_N)+tour_c))* \\\n",
    "                            (R_k - V_def[tour_i-1]*xi + V[Z_f][tour_i-1] - V[Z_i][tour_i-1])\n",
    "        elif techq == 2:\n",
    "            V_def[tour_i-1] = np.average(V[:,tour_i-1])\n",
    "            V[Z_i][tour_i] += (1 / (np.ceil(tour_i/tour_N)+tour_c))* \\\n",
    "                            (R_k - V_def[tour_i-1]*xi + V[Z_f][tour_i-1] - V[Z_i][tour_i-1])\n",
    "        elif techq == 3:\n",
    "            V_def[tour_i-1] = np.min(V[:,tour_i-1])\n",
    "            V[Z_i][tour_i] += (1 / (np.ceil(tour_i/tour_N)+tour_c))* \\\n",
    "                            (R_k - V_def[tour_i-1]*xi + V[Z_f][tour_i-1] - V[Z_i][tour_i-1])\n",
    "        else:\n",
    "            print(\"Wrong value for RL technique\")\n",
    "            sys.exit(0)\n",
    "        tour_i += 1\n",
    "    # return(V_def[1:tour_i-1])\n",
    "    xi_arrr = np.array(xi_arr)\n",
    "    ind = np.zeros(len(B_arr),dtype = int)\n",
    "    for ii,i in enumerate(B_arr):\n",
    "        ind[ii]=np.argmax(xi_arrr > i)-1\n",
    "    return (V_def[ind+1])\n",
    "    # return (V_def[1:tour_i-1], np.array(R)[:tour_i-1], np.array(xi_arr)[:-1])"
   ]
  },
  {
   "cell_type": "markdown",
   "metadata": {},
   "source": [
    "## RL-RW with Lazy Random Walk"
   ]
  },
  {
   "cell_type": "code",
   "execution_count": 45,
   "metadata": {
    "collapsed": false,
    "run_control": {
     "frozen": false,
     "read_only": false
    }
   },
   "outputs": [],
   "source": [
    "# RL with Lazy Random Walk\n",
    "def RL_LRW_estimate(G,super_node,max_B,B_arr,G_no_nodes,techq,tour_N,tour_c):\n",
    "    \"\"\"\n",
    "    1. Returns estimate from tours\n",
    "    2. function  fn: f(D_t) = 1 if D_t > deg_def\n",
    "\n",
    "    Parameters\n",
    "    ----------\n",
    "    G:            - networkx graph\n",
    "    super_node\t  - node set  for \"super node\"\n",
    "    no_tours\t  - number of tours\n",
    "    \"\"\"\n",
    "    size_super_node = len(super_node)\n",
    "    V = np.zeros((size_super_node,max_B+1))\n",
    "    V_def = np.zeros(max_B)\n",
    "    Z_def = 10\n",
    "    R=[]\n",
    "    xi_arr = []\n",
    "    xi_sum = 0\n",
    "    tour_i = 1\n",
    "    \n",
    "    while xi_sum <= max_B:\n",
    "\n",
    "        R_k = 0\n",
    "        Z_i = random.randint(0,size_super_node-1)\n",
    "        sample = super_node[Z_i]\n",
    "        \n",
    "        # sample_t contains the previous sample\n",
    "        sample_t =  sample\n",
    "        if not np.random.randint(2,size = 1):\n",
    "            neighbors = nx.neighbors(G,sample)\n",
    "            sample = np.random.choice(neighbors)\n",
    "\n",
    "        xi = 1\n",
    "        LH = 1\n",
    "        while sample not in super_node:\n",
    "            R_k += node_fn(sample)\n",
    "            \n",
    "            if sample == sample_t:\n",
    "                LH_1 = 1-sum([1/max(G.degree(sample_t), G.degree(sample_t_n))\\\n",
    "                              for sample_t_n in neighbors])\n",
    "                LH_2 = 1/2\n",
    "            else:\n",
    "                LH_1 = 1/max(G.degree(sample_t), G.degree(sample))\n",
    "                LH_2 = 1/(2*G.degree(sample_t))\n",
    "                \n",
    "            LH *= LH_1 / LH_2\n",
    "            \n",
    "            sample_t = sample\n",
    "            if not np.random.randint(2,size = 1):\n",
    "                neighbors = nx.neighbors(G,sample)\n",
    "                sample = np.random.choice(neighbors)\n",
    "            xi += 1\n",
    "            \n",
    "        R_k += node_fn(sample)\n",
    "        R.append(R_k)\n",
    "        xi_sum += xi\n",
    "        xi_arr.append(xi_sum)\n",
    "        \n",
    "        LH_1 = 1/max(G.degree(sample), G.degree(sample_t))\n",
    "        LH_2 = 1/(2*G.degree(sample_t))\n",
    "        LH *= LH_1 / LH_2\n",
    "        \n",
    "        V[:,tour_i] = V[:,(tour_i-1)]\n",
    "\n",
    "        Z_f = super_node.index(sample)\n",
    "        if techq == 1:\n",
    "            V_def[tour_i-1] = V[Z_def,tour_i-1]\n",
    "            V[Z_i][tour_i] += LH * (1 / (np.ceil(tour_i/tour_N)+tour_c)) \\\n",
    "                                * (R_k - V_def[tour_i-1]*xi + V[Z_f][tour_i-1] - V[Z_i][tour_i-1])\n",
    "        elif techq == 2:\n",
    "            V_def[tour_i-1] = np.average(V[:,tour_i-1])\n",
    "            V[Z_i][tour_i] +=  LH * (1 / (np.ceil(tour_i/tour_N)+tour_c)) \\\n",
    "                                * (R_k - V_def[tour_i-1]*xi + V[Z_f][tour_i-1] - V[Z_i][tour_i-1])\n",
    "        elif techq == 3:\n",
    "            V_def[tour_i-1] = np.min(V[:,tour_i-1])\n",
    "            V[Z_i][tour_i] += LH * (1 / (np.ceil(tour_i/tour_N)+tour_c)) \\\n",
    "                                * (R_k - V_def[tour_i-1]*xi + V[Z_f][tour_i-1] - V[Z_i][tour_i-1])\n",
    "        else:\n",
    "            print(\"Wrong value for RL technique\")\n",
    "            sys.exit(0)\n",
    "        tour_i += 1\n",
    "\n",
    "    xi_arrr = np.array(xi_arr)\n",
    "    ind = np.zeros(len(B_arr),dtype = int)\n",
    "    for ii,i in enumerate(B_arr):\n",
    "        ind[ii]=np.argmax(xi_arrr > i)-1\n",
    "    return (V_def[ind+1])"
   ]
  },
  {
   "cell_type": "markdown",
   "metadata": {},
   "source": [
    "## RL-RW with SRW"
   ]
  },
  {
   "cell_type": "code",
   "execution_count": 41,
   "metadata": {
    "collapsed": true,
    "run_control": {
     "frozen": false,
     "read_only": false
    }
   },
   "outputs": [],
   "source": [
    "# RL with Lazy Random Walk\n",
    "def RL_SRW_estimate(G,super_node,max_B,B_arr,G_no_nodes,techq,tour_N,tour_c):\n",
    "    \"\"\"\n",
    "    1. Returns estimate from tours\n",
    "\n",
    "    Parameters\n",
    "    ----------\n",
    "    G:            - networkx graph\n",
    "    super_node\t  - node set  for \"super node\"\n",
    "    no_tours\t  - number of tours\n",
    "    To be completed\n",
    "    \"\"\"\n",
    "    size_super_node = len(super_node)\n",
    "    V = np.zeros((size_super_node,max_B+1))\n",
    "    V_def = np.zeros(max_B)\n",
    "    Z_def = 10\n",
    "    R=[]\n",
    "    xi_arr = []\n",
    "    xi_sum = 0\n",
    "    tour_i = 1\n",
    "    while xi_sum <= max_B:\n",
    "\n",
    "        R_k = 0\n",
    "        Z_i = random.randint(0,size_super_node-1)\n",
    "        sample = super_node[Z_i]\n",
    "        \n",
    "        # sample_t contains the previous sample\n",
    "        sample_t =  sample\n",
    "        neighbors = nx.neighbors(G,sample)\n",
    "        sample = np.random.choice(neighbors)\n",
    "\n",
    "        xi = 1\n",
    "        LH = 1\n",
    "        while sample not in super_node:\n",
    "            R_k += node_fn(sample)\n",
    "            \n",
    "            LH_1 = 1/max(G.degree(sample_t), G.degree(sample))\n",
    "            LH_2 = 1/(G.degree(sample_t))\n",
    "            LH *= LH_1 / LH_2\n",
    "            \n",
    "            sample_t = sample\n",
    "            neighbors = nx.neighbors(G,sample)\n",
    "            sample = np.random.choice(neighbors)\n",
    "            xi += 1\n",
    "            \n",
    "        R_k += node_fn(sample)\n",
    "        R.append(R_k)\n",
    "        xi_sum += xi\n",
    "        xi_arr.append(xi_sum)\n",
    "        \n",
    "        LH_1 = 1/max(G.degree(sample), G.degree(sample_t))\n",
    "        LH_2 = 1/(G.degree(sample_t))\n",
    "        LH *= LH_1 / LH_2\n",
    "              \n",
    "        V[:,tour_i] = V[:,(tour_i-1)]\n",
    "\n",
    "        Z_f = super_node.index(sample)\n",
    "        if techq == 1:\n",
    "            V_def[tour_i-1] = V[Z_def,tour_i-1]\n",
    "            V[Z_i][tour_i] += LH * (1 / (np.ceil(tour_i/tour_N)+tour_c)) \\\n",
    "                                * (R_k - V_def[tour_i-1]*xi + V[Z_f][tour_i-1] - V[Z_i][tour_i-1])\n",
    "        elif techq == 2:\n",
    "            V_def[tour_i-1] = np.average(V[:,tour_i-1])\n",
    "            V[Z_i][tour_i] +=  LH * (1 / (np.ceil(tour_i/tour_N)+tour_c)) \\\n",
    "                                * (R_k - V_def[tour_i-1]*xi + V[Z_f][tour_i-1] - V[Z_i][tour_i-1])\n",
    "        elif techq == 3:\n",
    "            V_def[tour_i-1] = np.min(V[:,tour_i-1])\n",
    "            V[Z_i][tour_i] += LH * (1 / (np.ceil(tour_i/tour_N)+tour_c)) \\\n",
    "                                * (R_k - V_def[tour_i-1]*xi + V[Z_f][tour_i-1] - V[Z_i][tour_i-1])\n",
    "        else:\n",
    "            print(\"Wrong value for RL technique\")\n",
    "            sys.exit(0)\n",
    "        tour_i += 1\n",
    "        \n",
    "    xi_arrr = np.array(xi_arr)\n",
    "    ind = np.zeros(len(B_arr),dtype = int)\n",
    "    for ii,i in enumerate(B_arr):\n",
    "        ind[ii]=np.argmax(xi_arrr > i)-1\n",
    "    return V_def[ind+1]\n",
    "    # return (V_def[1:tour_i-1], np.array(R)[:tour_i-1], np.array(xi_arr)[:-1])"
   ]
  },
  {
   "cell_type": "markdown",
   "metadata": {},
   "source": [
    "## Tour estimator"
   ]
  },
  {
   "cell_type": "code",
   "execution_count": 42,
   "metadata": {
    "collapsed": false,
    "run_control": {
     "frozen": false,
     "read_only": false
    }
   },
   "outputs": [],
   "source": [
    "def random_walk_tour_estimate(G,super_node,nbr_out_sup,F_org_sup_1,vol_sup_node,max_B,B_arr):\n",
    "    \"\"\"\n",
    "    1. Returns estimate from tours\n",
    "    2. function  fn: f(D_t) = 1 if D_t > deg_def\n",
    "\n",
    "    Parameters\n",
    "    ----------\n",
    "    G:            - networkx graph\n",
    "    super_node\t  - node set  for \"super node\"\n",
    "    no_tours\t  - number of tours\n",
    "    \"\"\"\n",
    "\n",
    "    R = []\n",
    "    R_1 =[]\n",
    "    R_2 = []\n",
    "    summ = 0\n",
    "    summ1 =0\n",
    "    summ2 =0\n",
    "    \n",
    "    xi_arr = []\n",
    "    xi_sum = 0\n",
    "\n",
    "    size_super_node = len(super_node)\n",
    "    tour_i = 1\n",
    "    while xi_sum <= max_B:\n",
    "\n",
    "        R_k1 = 0\n",
    "        R_k2 = 0\n",
    "        \n",
    "        sample = random.choice(nbr_out_sup)\n",
    "        xi = 1\n",
    "        while sample not in super_node:\n",
    "            deg_sample = G.degree(sample)\n",
    "            R_k1 += node_fn(sample)/deg_sample\n",
    "            R_k2 += 1/deg_sample\n",
    "            xi += 1\n",
    "            neighbors = nx.neighbors(G,sample)\n",
    "            sample = random.choice(neighbors)\n",
    "\n",
    "        R_k1 += F_org_sup_1/vol_sup_node\n",
    "        R_k2 += size_super_node/vol_sup_node\n",
    "        \n",
    "        R_1.append(R_k1+summ1)\n",
    "        R_2.append(R_k2+summ2)\n",
    "        \n",
    "        summ1 += R_k1\n",
    "        summ2 += R_k2\n",
    "        \n",
    "        xi_sum += xi\n",
    "        xi_arr.append(xi_sum)\n",
    "        tour_i += 1\n",
    "#     R_1 = np.array(R_1)+F_org_sup_1\n",
    "#     R_2 = np.array(R_2)+len(super_node)\n",
    "\n",
    "    R_1 = np.array(R_1)\n",
    "    R_2 = np.array(R_2)\n",
    "    R = R_1/R_2\n",
    "    \n",
    "    # xi_arrr = np.array(xi_arr)\n",
    "    # ind = np.zeros(len(B_arr),dtype = int)\n",
    "    # for ii,i in enumerate(B_arr):\n",
    "    #     ind[ii]=np.argmax(xi_arrr > i)-1\n",
    "    # return (R[ind])\n",
    "    \n",
    "    xi_arrr = np.array(xi_arr)\n",
    "    ind = np.zeros(len(B_arr),dtype = int)\n",
    "    for ii,it in enumerate(B_arr):\n",
    "        ind[ii]=np.argmax(xi_arrr > it)-1 \n",
    "        # Without -1, argmax chooses the xi_arrth element which crosses \"it\"\n",
    "        # With -1, we go one step backwards\n",
    "    return (R[ind])"
   ]
  },
  {
   "cell_type": "markdown",
   "metadata": {},
   "source": [
    "# Main program"
   ]
  },
  {
   "cell_type": "code",
   "execution_count": 43,
   "metadata": {
    "collapsed": true,
    "run_control": {
     "frozen": false,
     "read_only": false
    }
   },
   "outputs": [],
   "source": [
    "if G_i == 1:\n",
    "    G = nx.read_edgelist(\"friendster_community1_trimmed.edgelist\",nodetype = int)\n",
    "elif G_i == 2:\n",
    "    G = nx.read_edgelist(\"lesmis.edgelist\", nodetype = int)\n",
    "G_no_edges=G.number_of_edges()\n",
    "G_no_nodes=G.number_of_nodes()"
   ]
  },
  {
   "cell_type": "code",
   "execution_count": 44,
   "metadata": {
    "collapsed": true,
    "run_control": {
     "frozen": false,
     "read_only": false
    }
   },
   "outputs": [],
   "source": [
    "if G_i == 1:\n",
    "    if flag_fn == 1:\n",
    "        F_org = 0.265712074303 #sum([1 for i in G.nodes() if G.degree(i) ])/G_no_nodes\n",
    "    elif flag_fn == 4:\n",
    "        F_org = 0.4491010966748313\n",
    "    else:\n",
    "        sys.exit(\"Invalid function\")\n",
    "        \n",
    "elif G_i == 2:\n",
    "    # F_org = sum([1 for i in G.nodes() if G.degree(i) ])/G_no_nodes #0.220779220779 #\n",
    "    if (flag_fn == 1) or (flag_fn == 2):\n",
    "        F_org = sum([node_fn(i) for i in G.nodes()])/G_no_nodes\n",
    "    elif flag_fn == 3:\n",
    "        F_org = 2*G_no_edges/G_no_nodes\n",
    "    elif flag_fn == 4:\n",
    "        F_org = nx.average_clustering(G)"
   ]
  },
  {
   "cell_type": "code",
   "execution_count": 16,
   "metadata": {
    "collapsed": false,
    "run_control": {
     "frozen": false,
     "read_only": false
    }
   },
   "outputs": [],
   "source": [
    "if MH_do:\n",
    "    MSE_MH_t = 0\n",
    "    for ii in range(1,no_runs+1):\n",
    "        print(\"MHruns: \",ii)\n",
    "        MSE_MH_t += (MH_sampling(G,max_B)-F_org)**2\n",
    "    MSE_MH = MSE_MH_t/(no_runs)\n",
    "\n",
    "    if SHOW_VAR_CONVG == 1:\n",
    "        MSE_MH = MSE_MH*np.arange(1,max_B+1)\n",
    "    else:\n",
    "        MSE_MH = np.sqrt(MSE_MH)/F_org"
   ]
  },
  {
   "cell_type": "code",
   "execution_count": 17,
   "metadata": {
    "collapsed": false,
    "run_control": {
     "frozen": false,
     "read_only": false
    }
   },
   "outputs": [
    {
     "name": "stdout",
     "output_type": "stream",
     "text": [
      "RDSruns:  1\n",
      "RDSruns:  2\n",
      "RDSruns:  3\n",
      "RDSruns:  4\n",
      "RDSruns:  5\n",
      "RDSruns:  6\n",
      "RDSruns:  7\n",
      "RDSruns:  8\n",
      "RDSruns:  9\n",
      "RDSruns:  10\n",
      "RDSruns:  11\n",
      "RDSruns:  12\n",
      "RDSruns:  13\n",
      "RDSruns:  14\n",
      "RDSruns:  15\n",
      "RDSruns:  16\n",
      "RDSruns:  17\n",
      "RDSruns:  18\n",
      "RDSruns:  19\n",
      "RDSruns:  20\n",
      "RDSruns:  21\n",
      "RDSruns:  22\n",
      "RDSruns:  23\n",
      "RDSruns:  24\n",
      "RDSruns:  25\n",
      "RDSruns:  26\n",
      "RDSruns:  27\n",
      "RDSruns:  28\n",
      "RDSruns:  29\n",
      "RDSruns:  30\n",
      "RDSruns:  31\n",
      "RDSruns:  32\n",
      "RDSruns:  33\n",
      "RDSruns:  34\n",
      "RDSruns:  35\n",
      "RDSruns:  36\n",
      "RDSruns:  37\n",
      "RDSruns:  38\n",
      "RDSruns:  39\n",
      "RDSruns:  40\n",
      "RDSruns:  41\n",
      "RDSruns:  42\n",
      "RDSruns:  43\n",
      "RDSruns:  44\n",
      "RDSruns:  45\n",
      "RDSruns:  46\n",
      "RDSruns:  47\n",
      "RDSruns:  48\n",
      "RDSruns:  49\n",
      "RDSruns:  50\n",
      "RDSruns:  51\n",
      "RDSruns:  52\n",
      "RDSruns:  53\n",
      "RDSruns:  54\n",
      "RDSruns:  55\n",
      "RDSruns:  56\n",
      "RDSruns:  57\n",
      "RDSruns:  58\n",
      "RDSruns:  59\n",
      "RDSruns:  60\n",
      "RDSruns:  61\n",
      "RDSruns:  62\n",
      "RDSruns:  63\n",
      "RDSruns:  64\n",
      "RDSruns:  65\n",
      "RDSruns:  66\n",
      "RDSruns:  67\n",
      "RDSruns:  68\n",
      "RDSruns:  69\n",
      "RDSruns:  70\n",
      "RDSruns:  71\n",
      "RDSruns:  72\n",
      "RDSruns:  73\n",
      "RDSruns:  74\n",
      "RDSruns:  75\n",
      "RDSruns:  76\n",
      "RDSruns:  77\n",
      "RDSruns:  78\n",
      "RDSruns:  79\n",
      "RDSruns:  80\n",
      "RDSruns:  81\n",
      "RDSruns:  82\n",
      "RDSruns:  83\n",
      "RDSruns:  84\n",
      "RDSruns:  85\n",
      "RDSruns:  86\n",
      "RDSruns:  87\n",
      "RDSruns:  88\n",
      "RDSruns:  89\n",
      "RDSruns:  90\n",
      "RDSruns:  91\n",
      "RDSruns:  92\n",
      "RDSruns:  93\n",
      "RDSruns:  94\n",
      "RDSruns:  95\n",
      "RDSruns:  96\n",
      "RDSruns:  97\n",
      "RDSruns:  98\n",
      "RDSruns:  99\n",
      "RDSruns:  100\n"
     ]
    }
   ],
   "source": [
    "if RDS_do:\n",
    "    MSE_rds_t = 0\n",
    "    for ii in range(1,no_runs+1):\n",
    "        print(\"RDSruns: \",ii)\n",
    "        MSE_rds_t += (RDS_sampling(G,max_B)-F_org)**2\n",
    "    MSE_rds = MSE_rds_t/(no_runs)\n",
    "\n",
    "    if SHOW_VAR_CONVG == 1:\n",
    "        MSE_rds = MSE_rds*np.arange(1,max_B+1)\n",
    "    else:\n",
    "        MSE_rds = np.sqrt(MSE_rds)/F_org"
   ]
  },
  {
   "cell_type": "code",
   "execution_count": 18,
   "metadata": {
    "collapsed": false,
    "run_control": {
     "frozen": false,
     "read_only": false
    }
   },
   "outputs": [
    {
     "name": "stdout",
     "output_type": "stream",
     "text": [
      "Size of super node (def = 1000): 25\n",
      "Size of super node is not 1\n",
      "RLruns:  1\n",
      "RLruns:  2\n",
      "RLruns:  3\n",
      "RLruns:  4\n",
      "RLruns:  5\n",
      "RLruns:  6\n"
     ]
    },
    {
     "ename": "KeyboardInterrupt",
     "evalue": "",
     "output_type": "error",
     "traceback": [
      "\u001b[0;31m---------------------------------------------------------------------------\u001b[0m",
      "\u001b[0;31mKeyboardInterrupt\u001b[0m                         Traceback (most recent call last)",
      "\u001b[0;32m<ipython-input-18-a3fc15b8b318>\u001b[0m in \u001b[0;36m<module>\u001b[0;34m()\u001b[0m\n\u001b[1;32m     17\u001b[0m     \u001b[0;32mfor\u001b[0m \u001b[0mii\u001b[0m \u001b[0;32min\u001b[0m \u001b[0mrange\u001b[0m\u001b[0;34m(\u001b[0m\u001b[0;36m1\u001b[0m\u001b[0;34m,\u001b[0m\u001b[0mno_runs\u001b[0m\u001b[0;34m+\u001b[0m\u001b[0;36m1\u001b[0m\u001b[0;34m)\u001b[0m\u001b[0;34m:\u001b[0m\u001b[0;34m\u001b[0m\u001b[0m\n\u001b[1;32m     18\u001b[0m         \u001b[0mprint\u001b[0m\u001b[0;34m(\u001b[0m\u001b[0;34m\"RLruns: \"\u001b[0m\u001b[0;34m,\u001b[0m\u001b[0mii\u001b[0m\u001b[0;34m)\u001b[0m\u001b[0;34m\u001b[0m\u001b[0m\n\u001b[0;32m---> 19\u001b[0;31m         \u001b[0mtemp\u001b[0m \u001b[0;34m=\u001b[0m \u001b[0mRL_estimate_MH\u001b[0m\u001b[0;34m(\u001b[0m\u001b[0mG\u001b[0m\u001b[0;34m,\u001b[0m\u001b[0msuper_node\u001b[0m\u001b[0;34m,\u001b[0m\u001b[0mmax_B\u001b[0m\u001b[0;34m,\u001b[0m\u001b[0mB_arr\u001b[0m\u001b[0;34m,\u001b[0m\u001b[0mG_no_nodes\u001b[0m\u001b[0;34m,\u001b[0m \u001b[0;36m2\u001b[0m\u001b[0;34m,\u001b[0m\u001b[0mtour_N\u001b[0m\u001b[0;34m,\u001b[0m\u001b[0mtour_c\u001b[0m\u001b[0;34m)\u001b[0m\u001b[0;34m\u001b[0m\u001b[0m\n\u001b[0m\u001b[1;32m     20\u001b[0m         \u001b[0mMSE_RL_t\u001b[0m \u001b[0;34m=\u001b[0m \u001b[0;34m(\u001b[0m\u001b[0mtemp\u001b[0m\u001b[0;34m-\u001b[0m\u001b[0mF_org\u001b[0m\u001b[0;34m)\u001b[0m\u001b[0;34m**\u001b[0m\u001b[0;36m2\u001b[0m\u001b[0;34m\u001b[0m\u001b[0m\n\u001b[1;32m     21\u001b[0m         \u001b[0;32mif\u001b[0m \u001b[0mii\u001b[0m \u001b[0;34m==\u001b[0m \u001b[0;36m1\u001b[0m\u001b[0;34m:\u001b[0m\u001b[0;34m\u001b[0m\u001b[0m\n",
      "\u001b[0;32m<ipython-input-10-40870c463c6f>\u001b[0m in \u001b[0;36mRL_estimate_MH\u001b[0;34m(G, super_node, max_B, B_arr, G_no_nodes, techq, tour_N, tour_c)\u001b[0m\n\u001b[1;32m     28\u001b[0m         \u001b[0mneighbors\u001b[0m \u001b[0;34m=\u001b[0m \u001b[0mnx\u001b[0m\u001b[0;34m.\u001b[0m\u001b[0mneighbors\u001b[0m\u001b[0;34m(\u001b[0m\u001b[0mG\u001b[0m\u001b[0;34m,\u001b[0m\u001b[0msample\u001b[0m\u001b[0;34m)\u001b[0m\u001b[0;34m\u001b[0m\u001b[0m\n\u001b[1;32m     29\u001b[0m         \u001b[0msample_t\u001b[0m \u001b[0;34m=\u001b[0m \u001b[0mnp\u001b[0m\u001b[0;34m.\u001b[0m\u001b[0mrandom\u001b[0m\u001b[0;34m.\u001b[0m\u001b[0mchoice\u001b[0m\u001b[0;34m(\u001b[0m\u001b[0mneighbors\u001b[0m\u001b[0;34m)\u001b[0m\u001b[0;34m\u001b[0m\u001b[0m\n\u001b[0;32m---> 30\u001b[0;31m         \u001b[0;32mif\u001b[0m \u001b[0mnp\u001b[0m\u001b[0;34m.\u001b[0m\u001b[0mrandom\u001b[0m\u001b[0;34m.\u001b[0m\u001b[0mrand\u001b[0m\u001b[0;34m(\u001b[0m\u001b[0;34m)\u001b[0m \u001b[0;34m<=\u001b[0m \u001b[0;34m(\u001b[0m\u001b[0mG\u001b[0m\u001b[0;34m.\u001b[0m\u001b[0mdegree\u001b[0m\u001b[0;34m(\u001b[0m\u001b[0msample\u001b[0m\u001b[0;34m)\u001b[0m\u001b[0;34m/\u001b[0m\u001b[0mG\u001b[0m\u001b[0;34m.\u001b[0m\u001b[0mdegree\u001b[0m\u001b[0;34m(\u001b[0m\u001b[0msample_t\u001b[0m\u001b[0;34m)\u001b[0m\u001b[0;34m)\u001b[0m\u001b[0;34m:\u001b[0m\u001b[0;34m\u001b[0m\u001b[0m\n\u001b[0m\u001b[1;32m     31\u001b[0m             \u001b[0msample\u001b[0m \u001b[0;34m=\u001b[0m \u001b[0msample_t\u001b[0m\u001b[0;34m\u001b[0m\u001b[0m\n\u001b[1;32m     32\u001b[0m         \u001b[0mxi\u001b[0m \u001b[0;34m=\u001b[0m \u001b[0;36m1\u001b[0m\u001b[0;34m\u001b[0m\u001b[0m\n",
      "\u001b[0;32m/user/jsreedha/home/anaconda3/lib/python3.5/site-packages/networkx/classes/graph.py\u001b[0m in \u001b[0;36mdegree\u001b[0;34m(self, nbunch, weight)\u001b[0m\n\u001b[1;32m   1347\u001b[0m \u001b[0;34m\u001b[0m\u001b[0m\n\u001b[1;32m   1348\u001b[0m         \"\"\"\n\u001b[0;32m-> 1349\u001b[0;31m         \u001b[0;32mif\u001b[0m \u001b[0mnbunch\u001b[0m \u001b[0;32min\u001b[0m \u001b[0mself\u001b[0m\u001b[0;34m:\u001b[0m      \u001b[0;31m# return a single node\u001b[0m\u001b[0;34m\u001b[0m\u001b[0m\n\u001b[0m\u001b[1;32m   1350\u001b[0m             \u001b[0;32mreturn\u001b[0m \u001b[0mnext\u001b[0m\u001b[0;34m(\u001b[0m\u001b[0mself\u001b[0m\u001b[0;34m.\u001b[0m\u001b[0mdegree_iter\u001b[0m\u001b[0;34m(\u001b[0m\u001b[0mnbunch\u001b[0m\u001b[0;34m,\u001b[0m \u001b[0mweight\u001b[0m\u001b[0;34m)\u001b[0m\u001b[0;34m)\u001b[0m\u001b[0;34m[\u001b[0m\u001b[0;36m1\u001b[0m\u001b[0;34m]\u001b[0m\u001b[0;34m\u001b[0m\u001b[0m\n\u001b[1;32m   1351\u001b[0m         \u001b[0;32melse\u001b[0m\u001b[0;34m:\u001b[0m           \u001b[0;31m# return a dict\u001b[0m\u001b[0;34m\u001b[0m\u001b[0m\n",
      "\u001b[0;32m/user/jsreedha/home/anaconda3/lib/python3.5/site-packages/networkx/classes/graph.py\u001b[0m in \u001b[0;36m__contains__\u001b[0;34m(self, n)\u001b[0m\n\u001b[1;32m    355\u001b[0m         \"\"\"\n\u001b[1;32m    356\u001b[0m         \u001b[0;32mtry\u001b[0m\u001b[0;34m:\u001b[0m\u001b[0;34m\u001b[0m\u001b[0m\n\u001b[0;32m--> 357\u001b[0;31m             \u001b[0;32mreturn\u001b[0m \u001b[0mn\u001b[0m \u001b[0;32min\u001b[0m \u001b[0mself\u001b[0m\u001b[0;34m.\u001b[0m\u001b[0mnode\u001b[0m\u001b[0;34m\u001b[0m\u001b[0m\n\u001b[0m\u001b[1;32m    358\u001b[0m         \u001b[0;32mexcept\u001b[0m \u001b[0mTypeError\u001b[0m\u001b[0;34m:\u001b[0m\u001b[0;34m\u001b[0m\u001b[0m\n\u001b[1;32m    359\u001b[0m             \u001b[0;32mreturn\u001b[0m \u001b[0;32mFalse\u001b[0m\u001b[0;34m\u001b[0m\u001b[0m\n",
      "\u001b[0;31mKeyboardInterrupt\u001b[0m: "
     ]
    }
   ],
   "source": [
    "if RL_MH_do:\n",
    "    ## Super-node calculations =================================================\n",
    "    size_super_node = int(input(\"Size of super node (def = 1000): \") or \"1000\")\n",
    "    if size_super_node == 1:\n",
    "        sup_node_1_sel = input(\"Select highest degree node (y/n), def = y): \") or \"y\"\n",
    "        if sup_node_1_sel is 'y':\n",
    "            super_node = [max(G.degree(), key=G.degree().get)]\n",
    "            print(\"Selected the node with highest degree !!\")\n",
    "        else:\n",
    "            super_node = random.sample(G.nodes(), size_super_node) #super-node formation from uniform samples\n",
    "    if size_super_node is not 1:\n",
    "        super_node = random.sample(G.nodes(), size_super_node) #super-node formation from uniform samples\n",
    "        print(\"Size of super node is not 1\")\n",
    "    ## =========================================================================\n",
    "    B_arr = np.arange(100,max_B+1,100)\n",
    "\n",
    "    for ii in range(1,no_runs+1):\n",
    "        print(\"RLruns: \",ii)\n",
    "        temp = RL_estimate_MH(G,super_node,max_B,B_arr,G_no_nodes, 2,tour_N,tour_c)\n",
    "        MSE_RL_t = (temp-F_org)**2\n",
    "        if ii == 1:\n",
    "            MSE_RL = MSE_RL_t\n",
    "        else:\n",
    "            MSE_RL = ((ii-1)/ii)*MSE_RL + MSE_RL_t/ii\n",
    "\n",
    "    if SHOW_VAR_CONVG == 1:\n",
    "        MSE_RL = MSE_RL*B_arr\n",
    "    else:\n",
    "        MSE_RL = np.sqrt(MSE_RL)/F_org"
   ]
  },
  {
   "cell_type": "code",
   "execution_count": null,
   "metadata": {
    "collapsed": false,
    "run_control": {
     "frozen": false,
     "read_only": false
    }
   },
   "outputs": [],
   "source": [
    "MSE_RL"
   ]
  },
  {
   "cell_type": "markdown",
   "metadata": {},
   "source": [
    "## RL-RW"
   ]
  },
  {
   "cell_type": "code",
   "execution_count": 46,
   "metadata": {
    "collapsed": false,
    "run_control": {
     "frozen": false,
     "read_only": false
    }
   },
   "outputs": [
    {
     "name": "stdout",
     "output_type": "stream",
     "text": [
      "Size of super node (def = 1000): 1000\n",
      "Size of super node is not 1\n",
      "RLruns:  1\n",
      "RLruns:  2\n",
      "RLruns:  3\n",
      "RLruns:  4\n",
      "RLruns:  5\n",
      "RLruns:  6\n",
      "RLruns:  7\n",
      "RLruns:  8\n",
      "RLruns:  9\n",
      "RLruns:  10\n",
      "RLruns:  11\n",
      "RLruns:  12\n",
      "RLruns:  13\n",
      "RLruns:  14\n",
      "RLruns:  15\n",
      "RLruns:  16\n",
      "RLruns:  17\n",
      "RLruns:  18\n",
      "RLruns:  19\n",
      "RLruns:  20\n",
      "RLruns:  21\n",
      "RLruns:  22\n",
      "RLruns:  23\n",
      "RLruns:  24\n",
      "RLruns:  25\n",
      "RLruns:  26\n",
      "RLruns:  27\n",
      "RLruns:  28\n",
      "RLruns:  29\n",
      "RLruns:  30\n",
      "RLruns:  31\n",
      "RLruns:  32\n",
      "RLruns:  33\n",
      "RLruns:  34\n",
      "RLruns:  35\n",
      "RLruns:  36\n",
      "RLruns:  37\n",
      "RLruns:  38\n",
      "RLruns:  39\n",
      "RLruns:  40\n",
      "RLruns:  41\n",
      "RLruns:  42\n",
      "RLruns:  43\n",
      "RLruns:  44\n",
      "RLruns:  45\n",
      "RLruns:  46\n",
      "RLruns:  47\n",
      "RLruns:  48\n",
      "RLruns:  49\n",
      "RLruns:  50\n",
      "RLruns:  51\n",
      "RLruns:  52\n",
      "RLruns:  53\n",
      "RLruns:  54\n",
      "RLruns:  55\n",
      "RLruns:  56\n",
      "RLruns:  57\n",
      "RLruns:  58\n",
      "RLruns:  59\n",
      "RLruns:  60\n",
      "RLruns:  61\n",
      "RLruns:  62\n",
      "RLruns:  63\n",
      "RLruns:  64\n",
      "RLruns:  65\n",
      "RLruns:  66\n",
      "RLruns:  67\n",
      "RLruns:  68\n",
      "RLruns:  69\n",
      "RLruns:  70\n",
      "RLruns:  71\n",
      "RLruns:  72\n",
      "RLruns:  73\n",
      "RLruns:  74\n",
      "RLruns:  75\n",
      "RLruns:  76\n",
      "RLruns:  77\n",
      "RLruns:  78\n",
      "RLruns:  79\n",
      "RLruns:  80\n",
      "RLruns:  81\n",
      "RLruns:  82\n",
      "RLruns:  83\n",
      "RLruns:  84\n",
      "RLruns:  85\n",
      "RLruns:  86\n",
      "RLruns:  87\n",
      "RLruns:  88\n",
      "RLruns:  89\n",
      "RLruns:  90\n",
      "RLruns:  91\n",
      "RLruns:  92\n",
      "RLruns:  93\n",
      "RLruns:  94\n",
      "RLruns:  95\n",
      "RLruns:  96\n",
      "RLruns:  97\n",
      "RLruns:  98\n",
      "RLruns:  99\n",
      "RLruns:  100\n"
     ]
    }
   ],
   "source": [
    "if RL_RW_do:\n",
    "    ## Super-node calculations =================================================\n",
    "    size_super_node = int(input(\"Size of super node (def = 1000): \") or \"1000\")\n",
    "    if size_super_node == 1:\n",
    "        sup_node_1_sel = input(\"Select highest degree node (y/n), def = y): \") or \"y\"\n",
    "        if sup_node_1_sel is 'y':\n",
    "            super_node = [max(G.degree(), key=G.degree().get)]\n",
    "            print(\"Selected the node with highest degree !!\")\n",
    "        else:\n",
    "            super_node = random.sample(G.nodes(), size_super_node) #super-node formation from uniform samples\n",
    "    if size_super_node is not 1:\n",
    "        super_node = random.sample(G.nodes(), size_super_node) #super-node formation from uniform samples\n",
    "        print(\"Size of super node is not 1\")\n",
    "    ## =========================================================================\n",
    "    B_arr = np.arange(100,max_B+1,100)\n",
    "\n",
    "    for ii in range(1,no_runs+1):\n",
    "        print(\"RLruns: \",ii)\n",
    "#         temp = RL_estimate_RW(G,super_node,max_B,B_arr,G_no_nodes, 2,tour_N,tour_c)\n",
    "        temp = RL_LRW_estimate(G = G,super_node = super_node, max_B = max_B ,B_arr = B_arr ,\n",
    "                                  G_no_nodes = G_no_nodes ,techq = 2,tour_N = tour_N ,tour_c = tour_c)\n",
    "        MSE_RL_RW_t = (temp-F_org)**2\n",
    "        if ii == 1:\n",
    "            MSE_RL_RW = MSE_RL_RW_t\n",
    "        else:\n",
    "            MSE_RL_RW = ((ii-1)/ii)*MSE_RL_RW + MSE_RL_RW_t/ii\n",
    "\n",
    "    if SHOW_VAR_CONVG == 1:\n",
    "        MSE_RL_RW = MSE_RL_RW*B_arr\n",
    "    else:\n",
    "        MSE_RL_RW = np.sqrt(MSE_RL_RW)/F_org "
   ]
  },
  {
   "cell_type": "code",
   "execution_count": 33,
   "metadata": {
    "collapsed": false
   },
   "outputs": [
    {
     "data": {
      "text/plain": [
       "array([  1.30797680e+07,   1.30798959e+07,   1.30798953e+07,\n",
       "         2.19500233e+13,   7.34023345e+13,   7.34023352e+13,\n",
       "         2.03757385e+14,   2.03757353e+14,   2.03757231e+14,\n",
       "         2.03757315e+14,   2.03757319e+14,   2.03762168e+14,\n",
       "         2.03749486e+14,   2.03749602e+14,   2.03749601e+14,\n",
       "         2.03749603e+14,   2.03749453e+14,   2.03758736e+14,\n",
       "         6.84720954e+17,   6.84261231e+17,   6.84261065e+17,\n",
       "         6.84262691e+17,   6.84262668e+17,   6.84262745e+17,\n",
       "         6.84262662e+17,   6.84286346e+17,   6.84286323e+17,\n",
       "         6.84286408e+17,   6.84289665e+17,   6.84985710e+17,\n",
       "         6.84985750e+17,   6.84985702e+17,   6.84985954e+17,\n",
       "         6.84914584e+17,   6.84928877e+17,   8.04218306e+17,\n",
       "         3.46497634e+18,   5.00469289e+18,   1.70365160e+19,\n",
       "         1.70365253e+19,   1.71532040e+19,   1.71532060e+19,\n",
       "         1.72004438e+19,   1.72011953e+19,   1.72012016e+19,\n",
       "         1.72011970e+19,   1.72007944e+19,   4.51124141e+23,\n",
       "         4.68570321e+23,   4.68574403e+23,   4.68574404e+23,\n",
       "         8.14303320e+23,   8.14296189e+23,   8.40397785e+23,\n",
       "         8.40397898e+23,   8.40395572e+23,   8.40408473e+23,\n",
       "         8.40407439e+23,   8.40407367e+23,   8.48570320e+23,\n",
       "         8.48570336e+23,   8.48570332e+23,   8.48570358e+23,\n",
       "         8.48566683e+23,   8.48566876e+23,   8.48566874e+23,\n",
       "         1.00143313e+33,   1.00143161e+33,   1.00144396e+33,\n",
       "         1.00156570e+33,   1.00156570e+33,   1.00156569e+33,\n",
       "         1.00156623e+33,   1.00156622e+33,   4.43001595e+36,\n",
       "         4.43001546e+36,   4.43000505e+36,   4.43000380e+36,\n",
       "         4.43000380e+36,   4.43000256e+36,   4.43000254e+36,\n",
       "         4.42999879e+36,   4.42999893e+36,   4.44038990e+36,\n",
       "         4.44039473e+36,   4.44039463e+36,   4.44039461e+36,\n",
       "         4.44039386e+36,   4.44039384e+36,   4.40797901e+36,\n",
       "         4.40797337e+36,   4.40797336e+36,   4.40361017e+36,\n",
       "         1.56164829e+44,   1.64516814e+45,   1.64094191e+45,\n",
       "         1.64094208e+45,   1.64094107e+45,   1.64094107e+45,\n",
       "         1.63343594e+45])"
      ]
     },
     "execution_count": 33,
     "metadata": {},
     "output_type": "execute_result"
    }
   ],
   "source": [
    "MSE_RL_RW"
   ]
  },
  {
   "cell_type": "markdown",
   "metadata": {},
   "source": [
    "## Ratio estimator comparison"
   ]
  },
  {
   "cell_type": "code",
   "execution_count": null,
   "metadata": {
    "collapsed": false,
    "run_control": {
     "frozen": false,
     "read_only": false
    }
   },
   "outputs": [],
   "source": [
    "## Super-node calculations =================================================\n",
    "size_super_node = int(input(\"Size of super node (def = 1000): \") or \"1000\")\n",
    "if size_super_node == 1:\n",
    "    sup_node_1_sel = input(\"Select highest degree node (y/n), def = y): \") or \"y\"\n",
    "    if sup_node_1_sel is 'y':\n",
    "        super_node = [max(G.degree(), key=G.degree().get)]\n",
    "        print(\"Selected the node with highest degree !!\")\n",
    "    else:\n",
    "        super_node = random.sample(G.nodes(), size_super_node) #super-node formation from uniform samples\n",
    "if size_super_node is not 1:\n",
    "    super_node = random.sample(G.nodes(), size_super_node) #super-node formation from uniform samples\n",
    "    print (\"Size of super node is not 1\")\n",
    "## =========================================================================\n",
    "#Finding super_node's neighbours outside super node\n",
    "nbr_out_sup=[]\n",
    "sum_temp=0\n",
    "F_org_sup_1=0\n",
    "i=0\n",
    "for node_s in super_node:\n",
    "    print(\"super node \", i)\n",
    "    i+=1\n",
    "    list_s_n=[node_s_n for node_s_n in nx.neighbors(G,node_s) if node_s_n not in super_node]\n",
    "    nbr_out_sup=nbr_out_sup+list_s_n\n",
    "    F_org_sup_1 += node_fn(node_s)\n",
    "\n",
    "vol_sup_node = len(nbr_out_sup)\n",
    "## =========================================================================="
   ]
  },
  {
   "cell_type": "code",
   "execution_count": null,
   "metadata": {
    "collapsed": false,
    "run_control": {
     "frozen": false,
     "read_only": false
    }
   },
   "outputs": [],
   "source": [
    "B_arr = np.arange(100,max_B+1,100)\n",
    "MSE_RL_MH_t = 0\n",
    "MSE_RL_RW_t = 0\n",
    "MSE_tour_ratio_t = 0\n",
    "MSE_rds_t = 0\n",
    "\n",
    "for ii in range(1,no_runs+1):\n",
    "    print(\"runs: \",ii)\n",
    "#     temp_RL_MH = RL_estimate_MH(G,super_node,max_B,B_arr,G_no_nodes, 1,tour_N,tour_c)\n",
    "#     temp_RL_RW = RL_estimate_RW(G,super_node,max_B,B_arr,G_no_nodes, 1,tour_N,tour_c)\n",
    "    temp_tour_ratio = random_walk_tour_estimate(G,super_node,nbr_out_sup,F_org_sup_1,vol_sup_node,max_B,B_arr)\n",
    "    \n",
    "#     MSE_RL_MH_t = (temp_RL_MH-F_org)**2\n",
    "#     MSE_RL_RW_t = (temp_RL_RW-F_org)**2\n",
    "    MSE_tour_ratio_t = (temp_tour_ratio-F_org)**2\n",
    "    MSE_rds_t += (RDS_sampling(G,max_B)-F_org)**2\n",
    "\n",
    "    if ii == 1:\n",
    "#         MSE_RL_MH = MSE_RL_MH_t\n",
    "#         MSE_RL_RW = MSE_RL_RW_t\n",
    "        MSE_tour_ratio = MSE_tour_ratio_t\n",
    "    else:\n",
    "#         MSE_RL_MH = ((ii-1)/ii)*MSE_RL_MH + MSE_RL_MH_t/ii\n",
    "#         MSE_RL_RW = ((ii-1)/ii)*MSE_RL_RW + MSE_RL_RW_t/ii\n",
    "        MSE_tour_ratio = ((ii-1)/ii)*MSE_tour_ratio + MSE_tour_ratio_t/ii\n",
    "MSE_rds = MSE_rds_t/(no_runs)\n",
    "        \n",
    "# if SHOW_VAR_CONVG == 1:\n",
    "#     MSE_RL_RW = MSE_RL_RW*B_arr\n",
    "# else:\n",
    "#     MSE_RL_RW = np.sqrt(MSE_RL_RW)/F_org "
   ]
  },
  {
   "cell_type": "markdown",
   "metadata": {},
   "source": [
    "# Plotting and Saving"
   ]
  },
  {
   "cell_type": "markdown",
   "metadata": {},
   "source": [
    "## Temporary experiments with tour based ratio estimator"
   ]
  },
  {
   "cell_type": "code",
   "execution_count": null,
   "metadata": {
    "collapsed": false,
    "run_control": {
     "frozen": false,
     "read_only": false
    }
   },
   "outputs": [],
   "source": [
    "import brewer2mpl\n",
    "\n",
    "# Get \"Set2\" colors from ColorBrewer (all colorbrewer scales: http://bl.ocks.org/mbostock/5577023)\n",
    "set2 = brewer2mpl.get_map('Set2', 'qualitative', 8).mpl_colors\n",
    "# plt.style.use('default')\n"
   ]
  },
  {
   "cell_type": "code",
   "execution_count": null,
   "metadata": {
    "collapsed": false,
    "run_control": {
     "frozen": false,
     "read_only": false
    }
   },
   "outputs": [],
   "source": [
    "FIGSIZE_REQD = 1\n",
    "# fig = plt.figure(figsize=figsize(FIGSIZE_REQD))\n",
    "fig, ax = plt.subplots(FIGSIZE_REQD)\n",
    "\n",
    "ax=plt.axes(frameon=1)\n",
    "ax.spines[\"top\"].set_visible(False)\n",
    "ax.spines[\"right\"].set_visible(False)\n",
    "\n",
    "# Real plotting goes here:\n",
    "\n",
    "if SHOW_VAR_CONVG == 1:\n",
    "    plt.plot(np.arange(11,max_B+1),MSE_MH[10:], color=cust_color[1], \\\n",
    "     linewidth=1,linestyle='-',label='MH-MCMC')\n",
    "    if (G_i == 2):\n",
    "        plt.axhline(asy_var_MH_lesmis[flag_fn-1], xmin=0, color=cust_color[1],alpha=0.5, \\\n",
    "        linewidth=1.35, linestyle=\"--\", label = 'Asymp. variance of MH-MCMC') #Plot asymptotic variance\n",
    "    \n",
    "    plt.plot(range(11,max_B+1),MSE_rds[10:], color=cust_color[6], \\\n",
    "     linewidth=1,linestyle='-',label='RDS')\n",
    "    if (G_i == 2):\n",
    "        plt.axhline(asy_var_RDS_lesmis[flag_fn-1], xmin=0, color=cust_color[6],alpha=0.5, \\\n",
    "        linewidth=1.35, linestyle=\":\", label = 'Asymp. variance of RDS') #Plot asymptotic variance\n",
    "\n",
    "    plt.plot(B_arr[1:],MSE_RL[1:], color=cust_color[3], \\\n",
    "     linewidth=1,linestyle='-',label='RL technique')\n",
    "\n",
    "else:\n",
    "#     plt.plot(np.arange(11,max_B+1),MSE_MH[10:], color=cust_color[1], \\\n",
    "#      linewidth=1,linestyle='-',label='MH-MCMC')      \n",
    "\n",
    "#     plt.plot(range(11,max_B+1),MSE_rds[10:], color=cust_color[6], \\\n",
    "#      linewidth=1,linestyle='-',label='RDS')\n",
    "\n",
    "#     plt.plot(B_arr,MSE_RL, color=cust_color[3], \\\n",
    "#      linewidth=1,linestyle='-',label='RL technique MH')\n",
    "        plt.plot(B_arr,MSE_tour_ratio_fr_average_clust_coeff_sup_1000_save, color= cust_color[1], \\\n",
    "        linewidth=1,linestyle='-',label='Tour technique')\n",
    "#         plt.plot(B_arr,MSE_RL_MH, color=cust_color[4], \\\n",
    "#         linewidth=1,linestyle='-',label='RL MH')\n",
    "#         plt.plot(B_arr,MSE_RL_RW, color=cust_color[5], \\\n",
    "#         linewidth=1,linestyle='-',label='RL RW')\n",
    "        plt.plot(range(11,max_B+1),MSE_rds_fr_avg_clust_coeff_save[10:], color= cust_color[6], \\\n",
    "         linewidth=1,linestyle='-',label='RDS')\n",
    "\n",
    "    \n",
    "#     plt.plot(B_arr,MSE_RL_RW, color=cust_color[4], \\\n",
    "#      linewidth=1,linestyle='-',label='RL technique RW')\n",
    "\n",
    "\n",
    "# =======================\n",
    "\n",
    "ax.set_xlabel('Budget $B$')\n",
    "if SHOW_VAR_CONVG == 1:\n",
    "    ylabel_txt = r'$\\mbox{MSE}\\times B$'\n",
    "else:\n",
    "    ylabel_txt = 'NRMSE'\n",
    "\n",
    "ax.set_ylabel(ylabel_txt) #USE labelpad = -1 to move label to axis\n",
    "\n",
    "legend=ax.legend(fancybox = True, framealpha=0.5,loc='best')\n",
    "\n",
    "frame = legend.get_frame()\n",
    "frame.set_facecolor('0.9')\n",
    "frame.set_edgecolor('0.75')\n",
    "plt.grid(alpha = 0.7)\n",
    "\n",
    "# props = dict(boxstyle='round', facecolor='wheat', alpha=0.5)\n",
    "# textstr = \"Super node size =%d\"%(size_super_node)\n",
    "# ax.text(0.02, 0.95,textstr, transform=ax.transAxes, fontsize= 8,\\\n",
    "#         verticalalignment='top', bbox=props)\n",
    "\n",
    "### QUICK INSET SETTINGS ####\n",
    "ax2 = plt.axes([.6, .3, .3, .3]) #[left bottom width height]\n",
    "plt.ticklabel_format(style='sci', axis='x', scilimits=(0,0))\n",
    "plt.ticklabel_format(style='sci', axis='y', scilimits=(0,0))\n",
    "plt.grid(alpha = 0.7)\n",
    "\n",
    "plt.plot(B_arr,MSE_tour_ratio_fr_average_clust_coeff_sup_1000_save, color=cust_color[1], \\\n",
    "linewidth=1,linestyle='-')\n",
    "plt.plot(range(11,max_B+1),MSE_rds_fr_avg_clust_coeff_save[10:], color=cust_color[6], \\\n",
    " linewidth=1,linestyle='-',label='RDS')\n",
    "ax2.set_xlim(left = 2000)\n",
    "ax2.set_ylim(top = 0.001)\n",
    "\n",
    "plt.locator_params(axis='y',nbins=4)#to specify number of ticks on both or any single axes\n",
    "plt.locator_params(axis='x',nbins=8)\n",
    "try:\n",
    "    legend=ax2.legend(fancybox = True, framealpha=0.5,loc='best')\n",
    "    frame = legend.get_frame()\n",
    "    frame.set_facecolor('0.9')\n",
    "    frame.set_edgecolor('0.7')\n",
    "except:\n",
    "    pass\n",
    "### -------------------- ####\n",
    "\n",
    "props = dict(boxstyle='round', facecolor='wheat', alpha=0.5)\n",
    "textstr = r'Friendster graph: \\\\Estimate avg.\\ clustering coefficient'\n",
    "# textstr = r'Friendster graph:\\\\ Estimate $\\displaystyle \\frac{1}{\\lvert V\\rvert} \\sum_{u \\in V}\\mathbb{I}\\{d(u) > 50\\}$'\n",
    "# textstr = r'Les Miserables graph: Estimate $\\displaystyle \\frac{1}{\\lvert V\\rvert} \\sum_{u \\in V} d(u)$'\n",
    "# textstr = r'Les Miserables graph: Estimate avg.\\ clustering coefficient'\n",
    "\n",
    "\n",
    "plt.text(0.05, 0.7,textstr,transform=ax.transAxes, bbox=props)\n",
    "\n",
    "if SHOW_VAR_CONVG == 1:\n",
    "    plt.savefig('plot_estn_comp_csonet_var.pdf',bbox_inches='tight',pad_inches = 0.05)\n",
    "    pl.dump(ax,file('plot_estn_comp_csonet_var.pickle','w'))\n",
    "    print(\"Saved the file plot_estn_comp_csonet_var\")\n",
    "else:\n",
    "    plt.savefig('plot_estn_comp_csonet_mse.pdf',bbox_inches='tight',pad_inches = 0.05)\n",
    "    pl.dump(ax2,open('plot_estn_comp_csonet_mse.pickle','wb'))\n",
    "    pickle.dump(fig, open('myplot.pickle', 'wb')) #ax corresponds to fig, ax = plt.subplots()\n",
    "\n",
    "    print(\"Saved the file plot_estn_comp_csonet_mse\")"
   ]
  },
  {
   "cell_type": "code",
   "execution_count": null,
   "metadata": {
    "collapsed": false,
    "run_control": {
     "frozen": false,
     "read_only": false
    }
   },
   "outputs": [],
   "source": [
    "data_friendster_rds; data_friendster_rt"
   ]
  },
  {
   "cell_type": "code",
   "execution_count": null,
   "metadata": {
    "collapsed": true,
    "run_control": {
     "frozen": false,
     "read_only": false
    }
   },
   "outputs": [],
   "source": [
    "store_friendster = pd.HDFStore('data_friendster.h5')\n",
    "store_friendster['data_friendster_rds'] = data_friendster_rds\n",
    "store_friendster['data_friendster_rt'] = data_friendster_rt\n",
    "store_friendster.close()"
   ]
  },
  {
   "cell_type": "code",
   "execution_count": null,
   "metadata": {
    "collapsed": false,
    "run_control": {
     "frozen": false,
     "read_only": false
    }
   },
   "outputs": [],
   "source": [
    "## Plotting without INSET\n",
    "FIGSIZE_REQD = 0.5\n",
    "# fig = plt.figure(figsize=figsize(FIGSIZE_REQD))\n",
    "fig, ax = plt.subplots(figsize=figsize(FIGSIZE_REQD))\n",
    "\n",
    "ax=plt.axes(frameon=1)\n",
    "ax.spines[\"top\"].set_visible(False)\n",
    "ax.spines[\"right\"].set_visible(False)\n",
    "\n",
    "# Real plotting goes here:\n",
    "ax.plot(B_arr,MSE_tour_ratio, color=cust_color[1], \\\n",
    "linewidth=1.5,linestyle='-',label='R-T')\n",
    "# ax.plot(B_arr,MSE_tour_ratio_1000, color=cust_color[2], \\\n",
    "# linewidth=1.5,linestyle='-',label='R-T: super-node size = 1000')\n",
    "ax.plot(range(11,max_B+1),MSE_rds[10:], color=cust_color[6], \\\n",
    " linewidth=1.5,linestyle='-', label='RDS')\n",
    "# =======================\n",
    "\n",
    "ax.set_xlabel('Budget $B$')\n",
    "ylabel_txt = 'NRMSE'\n",
    "ax.set_ylabel(ylabel_txt) #USE labelpad = -1 to move label to axis\n",
    "legend=ax.legend(fancybox = True, framealpha=0.5,loc='best')\n",
    "# legend=ax.legend(fancybox = True, framealpha=0.5,loc='best')\n",
    "\n",
    "frame = legend.get_frame()\n",
    "frame.set_facecolor('0.9')\n",
    "frame.set_edgecolor('0.75')\n",
    "plt.grid(alpha = 0.7)\n",
    "\n",
    "\n",
    "# ax.set_xlim(left = 2000)\n",
    "# ax.set_ylim(top = 0.0011)\n",
    "\n",
    "plt.locator_params(axis='y',nbins=6)#to specify number of ticks on both or any single axes\n",
    "plt.locator_params(axis='x',nbins=4)\n",
    "\n",
    "# props = dict(boxstyle='round', facecolor='wheat', alpha=0.5)\n",
    "# textstr = \"Super node size =%d\"%(size_super_node)\n",
    "# ax.text(0.02, 0.95,textstr, transform=ax.transAxes, fontsize= 8,\\\n",
    "#         verticalalignment='top', bbox=props)\n",
    "\n",
    "try:\n",
    "    legend=ax.legend(fancybox = True, framealpha=0.5,loc='best')\n",
    "    frame = legend.get_frame()\n",
    "    frame.set_facecolor('0.9')\n",
    "    frame.set_edgecolor('0.7')\n",
    "except:\n",
    "    pass\n",
    "### -------------------- ####\n",
    "\n",
    "\n",
    "plt.savefig('plot_estn_comp_csonet_mse.pdf',bbox_inches='tight',pad_inches = 0.05)\n",
    "# pl.dump(ax2,open('plot_estn_comp_csonet_mse.pickle','wb'))\n",
    "#     pickle.dump(ax, open('myplot.pickle', 'wb')) #ax corresponds to fig, ax = plt.subplots()\n",
    "\n",
    "print(\"Saved the file plot_estn_comp_csonet_mse\")"
   ]
  },
  {
   "cell_type": "code",
   "execution_count": null,
   "metadata": {
    "collapsed": false,
    "run_control": {
     "frozen": false,
     "read_only": false
    }
   },
   "outputs": [],
   "source": [
    "ax11 = pl.load(open('plot_estn_comp_csonet_mse.pickle', 'rb'))\n",
    "# ax1 = pickle.load(open('myplot.pickle', 'rb'))"
   ]
  },
  {
   "cell_type": "markdown",
   "metadata": {},
   "source": [
    "## Temporary experiments with RL-RW"
   ]
  },
  {
   "cell_type": "code",
   "execution_count": null,
   "metadata": {
    "collapsed": false
   },
   "outputs": [],
   "source": [
    "MSE_RL_RW"
   ]
  },
  {
   "cell_type": "code",
   "execution_count": null,
   "metadata": {
    "collapsed": false,
    "run_control": {
     "frozen": false,
     "read_only": false
    }
   },
   "outputs": [],
   "source": [
    "FIGSIZE_REQD = 1\n",
    "fig = plt.figure(figsize=figsize(FIGSIZE_REQD))\n",
    "ax=plt.axes(frameon=1)\n",
    "ax.spines[\"top\"].set_visible(False)\n",
    "ax.spines[\"right\"].set_visible(False)\n",
    "\n",
    "# Real plotting goes here:\n",
    "\n",
    "#     plt.plot(np.arange(11,max_B+1),MSE_MH[10:], color=cust_color[1], \\\n",
    "#      linewidth=1,linestyle='-',label='MH-MCMC')      \n",
    "\n",
    "# plt.plot(range(11,max_B+1),MSE_rds[10:], color=cust_color[6], \\\n",
    "#  linewidth=1,linestyle='-',label='RDS')\n",
    "\n",
    "#     plt.plot(B_arr,MSE_RL, color=cust_color[3], \\\n",
    "#      linewidth=1,linestyle='-',label='RL technique MH')\n",
    "\n",
    "plt.plot(B_arr[:-50],MSE_RL_RW[:-50], color=cust_color[4], \\\n",
    " linewidth=1,linestyle='-',label='RL technique RW')\n",
    "\n",
    "\n",
    "# =======================\n",
    "\n",
    "ax.set_xlabel('Budget $B$')\n",
    "if SHOW_VAR_CONVG == 1:\n",
    "    ylabel_txt = r'$\\mbox{MSE}\\times B$'\n",
    "else:\n",
    "    ylabel_txt = 'NRMSE'\n",
    "\n",
    "ax.set_ylabel(ylabel_txt) #USE labelpad = -1 to move label to axis\n",
    "\n",
    "legend=ax.legend(fancybox = True, framealpha=0.5,loc='best')\n",
    "\n",
    "frame = legend.get_frame()\n",
    "frame.set_facecolor('0.9')\n",
    "frame.set_edgecolor('0.75')\n",
    "plt.grid(alpha = 0.7)\n",
    "\n",
    "# props = dict(boxstyle='round', facecolor='wheat', alpha=0.5)\n",
    "# textstr = \"Super node size =%d\"%(size_super_node)\n",
    "# ax.text(0.02, 0.95,textstr, transform=ax.transAxes, fontsize= 8,\\\n",
    "#         verticalalignment='top', bbox=props)\n",
    "\n",
    "# ### QUICK INSET SETTINGS ####\n",
    "# ax2 = plt.axes([.6, .3, .3, .3]) #[left bottom width height]\n",
    "# plt.ticklabel_format(style='sci', axis='x', scilimits=(0,0))\n",
    "# plt.ticklabel_format(style='sci', axis='y', scilimits=(0,0))\n",
    "# plt.grid(alpha = 0.7)\n",
    "# plt.plot(B_arr[:-100],MSE_RL_RW[:-100], color=cust_color[4], \\\n",
    "#  linewidth=1,linestyle='-',label='RL technique RW')\n",
    "# plt.locator_params(axis='y',nbins=4)#to specify number of ticks on both or any single axes\n",
    "# plt.locator_params(axis='x',nbins=8)\n",
    "# legend=ax2.legend(fancybox = True, framealpha=0.5,loc='best')\n",
    "# frame = legend.get_frame()\n",
    "# frame.set_facecolor('0.9')\n",
    "# frame.set_edgecolor('0.75')\n",
    "# ### -------------------- ####\n",
    "\n",
    "\n",
    "plt.savefig('plot_estn_comp_csonet_mse.png',bbox_inches='tight',pad_inches = 0.05)\n",
    "#     pl.dump(fig,file('plot_estn_comp_csonet_mse.pickle','w'))\n",
    "print(\"Saved the file plot_estn_comp_csonet_mse\")"
   ]
  },
  {
   "cell_type": "code",
   "execution_count": null,
   "metadata": {
    "collapsed": false,
    "run_control": {
     "frozen": false,
     "read_only": false
    }
   },
   "outputs": [],
   "source": [
    "MSE_RL_RW"
   ]
  },
  {
   "cell_type": "code",
   "execution_count": null,
   "metadata": {
    "collapsed": false,
    "run_control": {
     "frozen": false,
     "read_only": false
    }
   },
   "outputs": [],
   "source": [
    "FIGSIZE_REQD = 1\n",
    "fig = plt.figure(figsize=figsize(FIGSIZE_REQD))\n",
    "ax=plt.axes(frameon=1)\n",
    "ax.spines[\"top\"].set_visible(False)\n",
    "ax.spines[\"right\"].set_visible(False)\n",
    "\n",
    "# Real plotting goes here:\n",
    "\n",
    "if SHOW_VAR_CONVG == 1:\n",
    "    plt.plot(np.arange(11,max_B+1),MSE_MH[10:], color=cust_color[1], \\\n",
    "     linewidth=1,linestyle='-',label='MH-MCMC')\n",
    "    if (G_i == 2):\n",
    "        plt.axhline(asy_var_MH_lesmis[flag_fn-1], xmin=0, color=cust_color[1],alpha=0.5, \\\n",
    "        linewidth=1.35, linestyle=\"--\", label = 'Asymp. variance of MH-MCMC') #Plot asymptotic variance\n",
    "    \n",
    "    plt.plot(range(11,max_B+1),MSE_rds[10:], color=cust_color[6], \\\n",
    "     linewidth=1,linestyle='-',label='RDS')\n",
    "    if (G_i == 2):\n",
    "        plt.axhline(asy_var_RDS_lesmis[flag_fn-1], xmin=0, color=cust_color[6],alpha=0.5, \\\n",
    "        linewidth=1.35, linestyle=\"--\", label = 'Asymp. variance of RDS') #Plot asymptotic variance\n",
    "\n",
    "    plt.plot(B_arr[1:],MSE_RL[1:], color=cust_color[3], \\\n",
    "     linewidth=1,linestyle='-',label='RL technique')\n",
    "\n",
    "else:\n",
    "    plt.plot(np.arange(11,max_B+1),MSE_MH[10:], color=cust_color[1], \\\n",
    "     linewidth=1,linestyle='-',label='MH-MCMC')      \n",
    "\n",
    "    plt.plot(range(11,max_B+1),MSE_rds[10:], color=cust_color[6], \\\n",
    "     linewidth=1,linestyle='-',label='RDS')\n",
    "\n",
    "    plt.plot(B_arr,MSE_RL, color=cust_color[3], \\\n",
    "     linewidth=1,linestyle='-',label='RL technique')\n",
    "    \n",
    "  \n",
    "# =======================\n",
    "\n",
    "ax.set_xlabel('Budget $B$')\n",
    "if SHOW_VAR_CONVG == 1:\n",
    "    ylabel_txt = r'$\\mbox{MSE}\\times B$'\n",
    "else:\n",
    "    ylabel_txt = 'NRMSE'\n",
    "\n",
    "ax.set_ylabel(ylabel_txt) #USE labelpad = -1 to move label to axis\n",
    "\n",
    "legend=ax.legend(fancybox = True, framealpha=0.5,loc='best')\n",
    "\n",
    "frame = legend.get_frame()\n",
    "frame.set_facecolor('0.9')\n",
    "frame.set_edgecolor('0.75')\n",
    "\n",
    "# props = dict(boxstyle='round', facecolor='wheat', alpha=0.5)\n",
    "# textstr = \"Super node size =%d\"%(size_super_node)\n",
    "# ax.text(0.02, 0.95,textstr, transform=ax.transAxes, fontsize= 8,\\\n",
    "#         verticalalignment='top', bbox=props)\n",
    "\n",
    "plt.grid(alpha = 0.7)\n",
    "if SHOW_VAR_CONVG == 1:\n",
    "    plt.savefig('plot_estn_comp_csonet_var.pdf',bbox_inches='tight',pad_inches = 0.05)\n",
    "    pl.dump(fig,file('plot_estn_comp_csonet_var.pickle','w'))\n",
    "    print \"Saved the file plot_estn_comp_csonet_var\"\n",
    "else:\n",
    "    plt.savefig('plot_estn_comp_csonet_mse.png',bbox_inches='tight',pad_inches = 0.05)\n",
    "    pl.dump(fig,file('plot_estn_comp_csonet_mse.pickle','w'))\n",
    "    print \"Saved the file plot_estn_comp_csonet_mse\""
   ]
  },
  {
   "cell_type": "markdown",
   "metadata": {},
   "source": [
    "#tour_N = 10, tour_c = 0\n",
    "MSE_RL_Le_3_var = np.copy(MSE_RL)\n",
    "MSE_rds_Le_3_var = np.copy(MSE_rds)\n",
    "MSE_MH_Le_3_var = np.copy(MSE_MH)"
   ]
  },
  {
   "cell_type": "markdown",
   "metadata": {},
   "source": [
    "#tour_N = 10, tour_c = 0\n",
    "MSE_RL_Le_2_var = np.copy(MSE_RL)\n",
    "MSE_rds_Le_2_var = np.copy(MSE_rds)\n",
    "MSE_MH_Le_2_var = np.copy(MSE_MH)"
   ]
  },
  {
   "cell_type": "markdown",
   "metadata": {},
   "source": [
    "#tour_N = 10, tour_c = 0\n",
    "MSE_RL_Le_1_var = np.copy(MSE_RL)\n",
    "MSE_rds_Le_1_var = np.copy(MSE_rds)\n",
    "MSE_MH_Le_1_var = np.copy(MSE_MH)"
   ]
  },
  {
   "cell_type": "markdown",
   "metadata": {},
   "source": [
    "#tour_N = 10, tour_c = 0\n",
    "MSE_RL_Le_4 = np.copy(MSE_RL)\n",
    "MSE_rds_Le_4 = np.copy(MSE_rds)\n",
    "MSE_MH_Le_4 = np.copy(MSE_MH)"
   ]
  },
  {
   "cell_type": "markdown",
   "metadata": {},
   "source": [
    "#tour_N = 10, tour_c = 0\n",
    "MSE_RL_Le_3 = np.copy(MSE_RL)\n",
    "MSE_rds_Le_3 = np.copy(MSE_rds)\n",
    "MSE_MH_Le_3 = np.copy(MSE_MH)"
   ]
  },
  {
   "cell_type": "markdown",
   "metadata": {},
   "source": [
    "#tour_N = 10, tour_c = 0\n",
    "MSE_RL_Le_2 = np.copy(MSE_RL)\n",
    "MSE_rds_Le_2 = np.copy(MSE_rds)\n",
    "MSE_MH_Le_2 = np.copy(MSE_MH)"
   ]
  },
  {
   "cell_type": "markdown",
   "metadata": {},
   "source": [
    "#tour_N = 10, tour_c = 0\n",
    "MSE_RL_Le_1 = np.copy(MSE_RL)\n",
    "MSE_rds_Le_1 = np.copy(MSE_rds)\n",
    "MSE_MH_Le_1 = np.copy(MSE_MH)"
   ]
  },
  {
   "cell_type": "markdown",
   "metadata": {},
   "source": [
    "#tour_N = 25, tour_c = 0\n",
    "MSE_RL_Fr_4 = np.copy(MSE_RL)\n",
    "MSE_rds_Fr_4 = np.copy(MSE_rds)\n",
    "MSE_MH_Fr_4 = np.copy(MSE_MH)"
   ]
  },
  {
   "cell_type": "markdown",
   "metadata": {},
   "source": [
    "#tour_N = 25, tour_c = 0\n",
    "MSE_RL_Fr_1 = np.copy(MSE_RL)\n",
    "MSE_rds_Fr_1 = np.copy(MSE_rds)\n",
    "MSE_MH_Fr_1 = np.copy(MSE_MH)"
   ]
  },
  {
   "cell_type": "code",
   "execution_count": null,
   "metadata": {
    "collapsed": true,
    "run_control": {
     "frozen": false,
     "read_only": false
    }
   },
   "outputs": [],
   "source": [
    "#tour_N = 10, tour_c = 0\n",
    "MSE_RL = np.copy(MSE_RL_Le_1)\n",
    "MSE_rds = np.copy(MSE_rds_Le_1)\n",
    "MSE_MH = np.copy(MSE_MH_Le_1)"
   ]
  },
  {
   "cell_type": "code",
   "execution_count": null,
   "metadata": {
    "collapsed": false,
    "run_control": {
     "frozen": false,
     "read_only": false
    }
   },
   "outputs": [],
   "source": [
    "if SHOW_VAR_CONVG == 1:\n",
    "    MSE_MH = (MSE_MH*F_org)**2\n",
    "    MSE_rds = (MSE_rds*F_org)**2\n",
    "    MSE_RL = (MSE_RL*F_org)**2\n",
    "    \n",
    "    MSE_MH = MSE_MH*np.arange(1,max_B+1)\n",
    "    MSE_rds = MSE_rds*np.arange(1,max_B+1)    \n",
    "    MSE_RL = MSE_RL*B_arr"
   ]
  },
  {
   "cell_type": "code",
   "execution_count": null,
   "metadata": {
    "collapsed": true,
    "run_control": {
     "frozen": false,
     "read_only": false
    }
   },
   "outputs": [],
   "source": [
    "import pickle"
   ]
  },
  {
   "cell_type": "code",
   "execution_count": null,
   "metadata": {
    "collapsed": true,
    "run_control": {
     "frozen": false,
     "read_only": false
    }
   },
   "outputs": [],
   "source": [
    "## To write:\n",
    "# with open('csonet_submission_final.pickle','wb') as handle:\n",
    "#     pickle.dump((MSE_RL_Le_3_var,MSE_rds_Le_3_var,MSE_MH_Le_3_var,MSE_RL_Le_2_var,MSE_rds_Le_2_var,MSE_MH_Le_2_var,\\\n",
    "#                 MSE_RL_Le_1_var,MSE_rds_Le_1_var,MSE_MH_Le_1_var,MSE_RL_Le_4,MSE_rds_Le_4,MSE_MH_Le_4,MSE_RL_Le_3,\\\n",
    "#                 MSE_rds_Le_3,MSE_MH_Le_3, MSE_RL_Le_2,MSE_rds_Le_2,MSE_MH_Le_2,MSE_RL_Le_1,MSE_rds_Le_1,MSE_MH_Le_1,\\\n",
    "#                 MSE_RL_Fr_4,MSE_rds_Fr_4,MSE_MH_Fr_4,MSE_RL_Fr_1,MSE_rds_Fr_1,MSE_MH_Fr_1),handle)\n",
    "    \n",
    "# To restore:    \n",
    "with open('csonet_submission_final.pickle','rb') as handle:\n",
    "    (MSE_RL_Le_3_var,MSE_rds_Le_3_var,MSE_MH_Le_3_var,MSE_RL_Le_2_var,MSE_rds_Le_2_var,MSE_MH_Le_2_var,\\\n",
    "    MSE_RL_Le_1_var,MSE_rds_Le_1_var,MSE_MH_Le_1_var,MSE_RL_Le_4,MSE_rds_Le_4,MSE_MH_Le_4,MSE_RL_Le_3,\\\n",
    "    MSE_rds_Le_3,MSE_MH_Le_3, MSE_RL_Le_2,MSE_rds_Le_2,MSE_MH_Le_2,MSE_RL_Le_1,MSE_rds_Le_1,MSE_MH_Le_1,\\\n",
    "    MSE_RL_Fr_4,MSE_rds_Fr_4,MSE_MH_Fr_4,MSE_RL_Fr_1,MSE_rds_Fr_1,MSE_MH_Fr_1) = pickle.load(handle)        \n"
   ]
  },
  {
   "cell_type": "markdown",
   "metadata": {},
   "source": [
    "# Miscellaneous"
   ]
  }
 ],
 "metadata": {
  "anaconda-cloud": {},
  "kernelspec": {
   "display_name": "Python [conda root]",
   "language": "python",
   "name": "conda-root-py"
  },
  "language_info": {
   "codemirror_mode": {
    "name": "ipython",
    "version": 3
   },
   "file_extension": ".py",
   "mimetype": "text/x-python",
   "name": "python",
   "nbconvert_exporter": "python",
   "pygments_lexer": "ipython3",
   "version": "3.5.2"
  },
  "toc": {
   "toc_cell": false,
   "toc_number_sections": true,
   "toc_threshold": 6,
   "toc_window_display": true
  }
 },
 "nbformat": 4,
 "nbformat_minor": 0
}
